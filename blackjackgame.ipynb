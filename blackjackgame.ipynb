{
 "cells": [
  {
   "cell_type": "code",
   "execution_count": 21,
   "metadata": {},
   "outputs": [],
   "source": [
    "import random\n",
    "\n",
    "palos = (\"♡\", \"♢\", \"♤\", \"♧\")\n",
    "numeros = ('2', '3', '4', '5', '6', '7', '8', '9', '10', 'J', 'Q', 'K', 'A')\n",
    "valores = {'2': 2, '3': 3, '4': 4, '5': 5, '6': 6, '7': 7, '8': 8, '9': 9, '10': 10, 'J': 10, 'Q': 10, 'K': 10, 'A': 10}"
   ]
  },
  {
   "cell_type": "code",
   "execution_count": 22,
   "metadata": {},
   "outputs": [],
   "source": [
    "class Carta:\n",
    "    def __init__(self, palo, valor):\n",
    "        self.palo = palo\n",
    "        self.valor = valor\n",
    "\n",
    "    def __str__(self):\n",
    "        return self.valor + self.palo"
   ]
  },
  {
   "cell_type": "code",
   "execution_count": 23,
   "metadata": {},
   "outputs": [],
   "source": [
    "class Mazo:\n",
    "    def __init__(self):\n",
    "        self.mazo = []\n",
    "        for palo in palos:\n",
    "            for valor in numeros:\n",
    "                self.mazo.append((palo, valor))\n",
    "\n",
    "    def mezclar(self):\n",
    "        random.shuffle(self.mazo)\n",
    "\n",
    "    def repartir(self):\n",
    "        repartir_carta = self.mazo.pop()\n",
    "        return repartir_carta"
   ]
  },
  {
   "cell_type": "code",
   "execution_count": 24,
   "metadata": {},
   "outputs": [],
   "source": [
    "class Mano:\n",
    "    def __init__(self):\n",
    "        self.cartas = []\n",
    "        self.valor = 0\n",
    "        self.ases = 0\n",
    "\n",
    "    def añadir_carta(self, carta):\n",
    "        self.cartas.append(carta)\n",
    "        self.valor += valores[carta[1]]\n",
    "\n",
    "    def ajustar_ases(self):\n",
    "        if self.cartas[0][1] == \"A\" or self.cartas[1][1] == \"A\":\n",
    "            if self.valor < 11:\n",
    "                valores[\"A\"] = 11\n",
    "            elif self.valor > 10:\n",
    "                valores[\"A\"] = 1"
   ]
  },
  {
   "cell_type": "code",
   "execution_count": 25,
   "metadata": {},
   "outputs": [],
   "source": [
    "class Fichas:\n",
    "    def __init__(self):\n",
    "        self.total = 300\n",
    "        self.apuesta = 0\n",
    "\n",
    "    def ganar_apuesta(self):\n",
    "        self.total = self.total + self.apuesta\n",
    "\n",
    "    def perder_apuesta(self):\n",
    "        self.total = self.total - self.apuesta\n",
    "\n",
    "    def push(self):\n",
    "        self.total = self.total"
   ]
  },
  {
   "cell_type": "code",
   "execution_count": 26,
   "metadata": {},
   "outputs": [],
   "source": [
    "def tomar_apuesta(C):\n",
    "    C.apuesta = int(input('Cuanto quieres apostar: '))\n",
    "    if C.total == 0 and C.apuesta > C.total:\n",
    "        raise Exception('Has perdido el dinero!!!')\n",
    "\n",
    "    while C.apuesta > C.total or C.apuesta < 0 or not (isinstance(C.apuesta, int)):\n",
    "        C.apuesta = int(input('Cuanto quieres apostar: '))"
   ]
  },
  {
   "cell_type": "code",
   "execution_count": 27,
   "metadata": {},
   "outputs": [],
   "source": [
    "def ir(D, mano):\n",
    "    mano.añadir_carta(D.repartir())\n",
    "    mano.ajustar_ases()"
   ]
  },
  {
   "cell_type": "code",
   "execution_count": 28,
   "metadata": {},
   "outputs": [],
   "source": [
    "def ir_o_plantarse(D, mano):\n",
    "    while True:\n",
    "        ir_plantarse = input(\"Quieres ir o plantarte \".lower())\n",
    "        if ir_plantarse == \"hit\" or ir_plantarse == \"h\":\n",
    "            ir(D, mano)\n",
    "        else:\n",
    "            print(\"Te has plantado, Dealer juega\")\n",
    "            return False\n",
    "        return True"
   ]
  },
  {
   "cell_type": "code",
   "execution_count": 29,
   "metadata": {},
   "outputs": [],
   "source": [
    "def enseñar_carta(mano_jugador, mano_dealer):\n",
    "    print(\"Cartas jugador: \")\n",
    "    print(mano_jugador.cartas)\n",
    "    print(\"Cartas Dealer: \")\n",
    "    print(mano_dealer.cartas[0])"
   ]
  },
  {
   "cell_type": "code",
   "execution_count": 30,
   "metadata": {},
   "outputs": [],
   "source": [
    "def enseñar_todas(mano_jugador, mano_dealer):\n",
    "    print(\"Cartas jugador: \")\n",
    "    print(mano_jugador.cartas)\n",
    "    print(\"Cartas Dealer: \")\n",
    "    print(mano_dealer.cartas)"
   ]
  },
  {
   "cell_type": "code",
   "execution_count": 31,
   "metadata": {},
   "outputs": [],
   "source": [
    "def jugador_pierde(C, jugador_mano, mano_dealer):\n",
    "    C.perder_apuesta()\n",
    "    print(\"Pierdes\")"
   ]
  },
  {
   "cell_type": "code",
   "execution_count": 32,
   "metadata": {},
   "outputs": [],
   "source": [
    "def jugador_gana(C, jugador_mano, mano_dealer):\n",
    "    C.ganar_apuesta()\n",
    "    print(\"Ganas\")"
   ]
  },
  {
   "cell_type": "code",
   "execution_count": 33,
   "metadata": {},
   "outputs": [],
   "source": [
    "def dealer_pierde(C, player_hand, dealer_hand):\n",
    "    C.ganar_apuesta()\n",
    "    print(\" Dealer Pierde \")"
   ]
  },
  {
   "cell_type": "code",
   "execution_count": 34,
   "metadata": {},
   "outputs": [],
   "source": [
    "def dealer_gana(C, player_hand, dealer_hand):\n",
    "    C.perder_apuesta()\n",
    "    print(\" Dealer Gana \")"
   ]
  },
  {
   "cell_type": "code",
   "execution_count": 35,
   "metadata": {},
   "outputs": [],
   "source": [
    "def push(C, player_hand, dealer_hand):\n",
    "    print(\"Empate\")\n",
    "    C.push()"
   ]
  },
  {
   "cell_type": "code",
   "execution_count": 36,
   "metadata": {},
   "outputs": [],
   "source": [
    "def jugar_de_nuevo():\n",
    "    return input(\"Te gustaria jugar de nuevo \").lower().startswith(\"y\")"
   ]
  },
  {
   "cell_type": "code",
   "execution_count": 37,
   "metadata": {},
   "outputs": [
    {
     "name": "stdout",
     "output_type": "stream",
     "text": [
      "#######BIENVENIDO AL CASINO\n",
      "INSTRUCCIONES:\n",
      "1- La apuesta debe ser menor o igual de su dinero actual(300)\n",
      "2-Responda con y/n o con yes/no cuando quieras jugar otra mano\n",
      "3- Responda con h/s o hit/stand para pedir otra carto o plantarse en su mano actual\n",
      "Cuanto quieres apostar: 200\n",
      "Cartas jugador: \n",
      "[('♧', 'Q'), ('♧', '5')]\n",
      "Cartas Dealer: \n",
      "('♡', '10')\n",
      "quieres ir o plantarte h\n",
      "Cartas jugador: \n",
      "[('♧', 'Q'), ('♧', '5'), ('♡', '3')]\n",
      "Cartas Dealer: \n",
      "('♡', '10')\n",
      "quieres ir o plantarte s\n",
      "Te has plantado, Dealer juega\n",
      "Cartas jugador: \n",
      "[('♧', 'Q'), ('♧', '5'), ('♡', '3')]\n",
      "Cartas Dealer: \n",
      "[('♡', '10'), ('♡', 'Q')]\n",
      " Dealer Gana \n",
      "ganadas0, perdidas1, empates0\n",
      "Tu dinero total es:100\n",
      "Te gustaria jugar de nuevo n\n",
      "Gracias por jugar\n",
      "Total ganadas0, Total perdidas1, Total empates0\n",
      "Que vuelvas pronto!!!\n"
     ]
    }
   ],
   "source": [
    "def main():\n",
    "    ganadas = 0\n",
    "    perdidas = 0\n",
    "    empate = 0\n",
    "    print(\"#######BIENVENIDO AL CASINO\")\n",
    "    print(\"INSTRUCCIONES:\")\n",
    "    print(\"1- La apuesta debe ser menor o igual de su dinero actual(300)\")\n",
    "    print(\"2-Responda con y/n o con yes/no cuando quieras jugar otra mano\")\n",
    "    print(\"3- Responda con h/s o hit/stand para pedir otra carto o plantarse en su mano actual\")\n",
    "\n",
    "    C = Fichas()\n",
    "    while True:\n",
    "        D = Mazo()\n",
    "        D.mezclar()\n",
    "        mano_jugador = Mano()\n",
    "        mano_dealer = Mano()\n",
    "        mano_jugador.añadir_carta(D.repartir())\n",
    "        mano_jugador.añadir_carta(D.repartir())\n",
    "        mano_dealer.añadir_carta(D.repartir())\n",
    "        mano_dealer.añadir_carta(D.repartir())\n",
    "        tomar_apuesta(C)\n",
    "        enseñar_carta(mano_jugador, mano_dealer)\n",
    "        while ir_o_plantarse(D, mano_jugador):\n",
    "            enseñar_carta(mano_jugador, mano_dealer)\n",
    "            if mano_jugador.valor > 21:\n",
    "                enseñar_todas(mano_jugador, mano_dealer)\n",
    "                jugador_pierde(C, mano_jugador, mano_dealer)\n",
    "                perdidas = perdidas + 1\n",
    "                print(f\"ganadas{ganadas}, perdidas{perdidas}, empates{empate}\")\n",
    "                break\n",
    "\n",
    "        if mano_jugador.valor <= 21:\n",
    "            while mano_dealer.valor < 17:\n",
    "                ir(D, mano_dealer)\n",
    "            enseñar_todas(mano_jugador, mano_dealer)\n",
    "\n",
    "            if mano_dealer.valor > 21:\n",
    "                dealer_pierde(C, mano_jugador, mano_dealer)\n",
    "                ganadas = ganadas + 1\n",
    "                print(f\"ganadas{ganadas}, perdidas{perdidas}, empates{empate}\")\n",
    "\n",
    "            elif mano_dealer.valor > mano_jugador.valor:\n",
    "                dealer_gana(C, mano_jugador, mano_dealer)\n",
    "                perdidas = perdidas + 1\n",
    "                print(f\"ganadas{ganadas}, perdidas{perdidas}, empates{empate}\")\n",
    "\n",
    "            elif mano_dealer.valor < mano_jugador.valor:\n",
    "                jugador_gana(C, mano_jugador, mano_dealer)\n",
    "                ganadas = ganadas + 1\n",
    "                print(f\"ganadas{ganadas}, perdidas{perdidas}, empates{empate}\")\n",
    "\n",
    "            else:\n",
    "                push(C, mano_jugador, mano_dealer)\n",
    "                empate = empate + 1\n",
    "                print(f\"ganadas{ganadas}, perdidas{perdidas}, empates{empate}\")\n",
    "\n",
    "        print(f\"Tu dinero total es:{C.total}\")\n",
    "        if jugar_de_nuevo():\n",
    "            continue\n",
    "        else:\n",
    "            print(\"Gracias por jugar\")\n",
    "            print(f\"Total ganadas{ganadas}, Total perdidas{perdidas}, Total empates{empate}\")\n",
    "            print(\"Que vuelvas pronto!!!\")\n",
    "            break\n",
    "\n",
    "\n",
    "main()"
   ]
  },
  {
   "cell_type": "code",
   "execution_count": null,
   "metadata": {},
   "outputs": [],
   "source": []
  },
  {
   "cell_type": "code",
   "execution_count": null,
   "metadata": {},
   "outputs": [],
   "source": []
  },
  {
   "cell_type": "code",
   "execution_count": null,
   "metadata": {},
   "outputs": [],
   "source": []
  }
 ],
 "metadata": {
  "kernelspec": {
   "display_name": "Python 3",
   "language": "python",
   "name": "python3"
  },
  "language_info": {
   "codemirror_mode": {
    "name": "ipython",
    "version": 3
   },
   "file_extension": ".py",
   "mimetype": "text/x-python",
   "name": "python",
   "nbconvert_exporter": "python",
   "pygments_lexer": "ipython3",
   "version": "3.8.5"
  },
  "toc": {
   "base_numbering": 1,
   "nav_menu": {},
   "number_sections": true,
   "sideBar": true,
   "skip_h1_title": false,
   "title_cell": "Table of Contents",
   "title_sidebar": "Contents",
   "toc_cell": false,
   "toc_position": {},
   "toc_section_display": true,
   "toc_window_display": false
  },
  "varInspector": {
   "cols": {
    "lenName": 16,
    "lenType": 16,
    "lenVar": 40
   },
   "kernels_config": {
    "python": {
     "delete_cmd_postfix": "",
     "delete_cmd_prefix": "del ",
     "library": "var_list.py",
     "varRefreshCmd": "print(var_dic_list())"
    },
    "r": {
     "delete_cmd_postfix": ") ",
     "delete_cmd_prefix": "rm(",
     "library": "var_list.r",
     "varRefreshCmd": "cat(var_dic_list()) "
    }
   },
   "types_to_exclude": [
    "module",
    "function",
    "builtin_function_or_method",
    "instance",
    "_Feature"
   ],
   "window_display": false
  }
 },
 "nbformat": 4,
 "nbformat_minor": 4
}
